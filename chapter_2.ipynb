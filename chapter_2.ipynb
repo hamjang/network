{
  "nbformat": 4,
  "nbformat_minor": 0,
  "metadata": {
    "colab": {
      "provenance": [],
      "collapsed_sections": []
    },
    "kernelspec": {
      "name": "python3",
      "display_name": "Python 3"
    },
    "language_info": {
      "name": "python"
    }
  },
  "cells": [
    {
      "cell_type": "code",
      "execution_count": 1,
      "metadata": {
        "id": "t4mmcahBuN9r"
      },
      "outputs": [],
      "source": [
        "import networkx as nx"
      ]
    },
    {
      "cell_type": "code",
      "source": [
        "# 가중치가 없는 네트워크\n",
        "g = nx.Graph()\n",
        "g.add_nodes_from([1,2,3,4])\n",
        "g.add_edges_from([(1,2),(2,3),(1,3),(1,4)])\n",
        "g.add_edge(3,4)\n",
        "nx.draw(g, with_labels = True)\n",
        "nx.radius(g)"
      ],
      "metadata": {
        "colab": {
          "base_uri": "https://localhost:8080/",
          "height": 337
        },
        "id": "hfXR8jfRuPjH",
        "outputId": "bdac840d-5448-487b-89e8-9ab784c3f20b"
      },
      "execution_count": 2,
      "outputs": [
        {
          "output_type": "execute_result",
          "data": {
            "text/plain": [
              "1"
            ]
          },
          "metadata": {},
          "execution_count": 2
        },
        {
          "output_type": "display_data",
          "data": {
            "text/plain": [
              "<Figure size 432x288 with 1 Axes>"
            ],
            "image/png": "[encoded data removed]"
          },
          "metadata": {}
        }
      ]
    },
    {
      "cell_type": "code",
      "source": [
        "nx.has_path(g,3,4)"
      ],
      "metadata": {
        "colab": {
          "base_uri": "https://localhost:8080/"
        },
        "id": "sF28c3tIu7t-",
        "outputId": "b5ba4136-4a9a-4b6f-ee15-b19b37d61bb6"
      },
      "execution_count": 3,
      "outputs": [
        {
          "output_type": "execute_result",
          "data": {
            "text/plain": [
              "True"
            ]
          },
          "metadata": {},
          "execution_count": 3
        }
      ]
    },
    {
      "cell_type": "code",
      "source": [
        "list(nx.all_simple_paths(g,3,4)) # 노드 3에서 노드 4로 가는 모든 경로"
      ],
      "metadata": {
        "colab": {
          "base_uri": "https://localhost:8080/"
        },
        "id": "k84NjdyjvG-_",
        "outputId": "e6efcca5-2146-4775-b396-084094782d77"
      },
      "execution_count": 4,
      "outputs": [
        {
          "output_type": "execute_result",
          "data": {
            "text/plain": [
              "[[3, 2, 1, 4], [3, 1, 4], [3, 4]]"
            ]
          },
          "metadata": {},
          "execution_count": 4
        }
      ]
    },
    {
      "cell_type": "code",
      "source": [
        "nx.shortest_path(g,3,4) # 노드 3에서 노드 4로 가는 최단 경로"
      ],
      "metadata": {
        "colab": {
          "base_uri": "https://localhost:8080/"
        },
        "id": "uJc4E-igvIJ3",
        "outputId": "58bb3320-4b9d-4b8f-ad75-dcad03b542ca"
      },
      "execution_count": 5,
      "outputs": [
        {
          "output_type": "execute_result",
          "data": {
            "text/plain": [
              "[3, 4]"
            ]
          },
          "metadata": {},
          "execution_count": 5
        }
      ]
    },
    {
      "cell_type": "code",
      "source": [
        "nx.shortest_path_length(g,3,4) # 노드 3에서 노드 4로 가는 최단 경로 길이"
      ],
      "metadata": {
        "colab": {
          "base_uri": "https://localhost:8080/"
        },
        "id": "EQp16Pz8vJYb",
        "outputId": "d068263d-bae4-471d-ae42-723e24204a5d"
      },
      "execution_count": 6,
      "outputs": [
        {
          "output_type": "execute_result",
          "data": {
            "text/plain": [
              "1"
            ]
          },
          "metadata": {},
          "execution_count": 6
        }
      ]
    },
    {
      "cell_type": "code",
      "source": [
        "nx.shortest_path(g) # 모든 경로 확인"
      ],
      "metadata": {
        "colab": {
          "base_uri": "https://localhost:8080/"
        },
        "id": "uvozXVH5vKtO",
        "outputId": "03538caf-e151-4dba-8375-fef1f9874882"
      },
      "execution_count": 7,
      "outputs": [
        {
          "output_type": "execute_result",
          "data": {
            "text/plain": [
              "{1: {1: [1], 2: [1, 2], 3: [1, 3], 4: [1, 4]},\n",
              " 2: {2: [2], 1: [2, 1], 3: [2, 3], 4: [2, 1, 4]},\n",
              " 3: {3: [3], 2: [3, 2], 1: [3, 1], 4: [3, 4]},\n",
              " 4: {4: [4], 1: [4, 1], 3: [4, 3], 2: [4, 1, 2]}}"
            ]
          },
          "metadata": {},
          "execution_count": 7
        }
      ]
    },
    {
      "cell_type": "code",
      "source": [
        "nx.shortest_path_length(g)"
      ],
      "metadata": {
        "colab": {
          "base_uri": "https://localhost:8080/"
        },
        "id": "Nk_cc7ZqvL5w",
        "outputId": "94416571-3e48-4028-dbda-c441ad711880"
      },
      "execution_count": 8,
      "outputs": [
        {
          "output_type": "execute_result",
          "data": {
            "text/plain": [
              "<generator object all_pairs_shortest_path_length at 0x7ff4de6a0c50>"
            ]
          },
          "metadata": {},
          "execution_count": 8
        }
      ]
    },
    {
      "cell_type": "code",
      "source": [
        "nx.average_shortest_path_length(g) # g의 평균 최단 경로 길이"
      ],
      "metadata": {
        "colab": {
          "base_uri": "https://localhost:8080/"
        },
        "id": "fRs5elIjvNaR",
        "outputId": "19dce0e1-bfb6-48aa-cb04-41699f9d14a0"
      },
      "execution_count": 9,
      "outputs": [
        {
          "output_type": "execute_result",
          "data": {
            "text/plain": [
              "1.1666666666666667"
            ]
          },
          "metadata": {},
          "execution_count": 9
        }
      ]
    },
    {
      "cell_type": "code",
      "source": [
        "# 가중치가 있는 방향성 네트워크\n",
        "\n",
        "w = nx.DiGraph() \n",
        "w.add_nodes_from([1,2,3,4])\n",
        "w.add_edge(1,2, weight = 3)\n",
        "w.add_edge(2,3, weight = 1) \n",
        "w.add_edge(1,3, weight = 5)\n",
        "w.add_edge(1,4, weight = 4)\n",
        "w.add_edge(3,4, weight = 2)\n",
        "nx.draw(w, with_labels = True )\n",
        "nx.degree_assortativity_coefficient(w) # 동류성 계수"
      ],
      "metadata": {
        "colab": {
          "base_uri": "https://localhost:8080/",
          "height": 373
        },
        "id": "SDqtSRFKvOuQ",
        "outputId": "b6b31a1d-21c1-4f2b-9ea7-d5fe87327cb1"
      },
      "execution_count": 10,
      "outputs": [
        {
          "output_type": "stream",
          "name": "stderr",
          "text": [
            "/usr/local/lib/python3.7/dist-packages/networkx/algorithms/assortativity/correlation.py:282: RuntimeWarning: invalid value encountered in double_scalars\n",
            "  return (xy * (M - ab)).sum() / np.sqrt(vara * varb)\n"
          ]
        },
        {
          "output_type": "execute_result",
          "data": {
            "text/plain": [
              "nan"
            ]
          },
          "metadata": {},
          "execution_count": 10
        },
        {
          "output_type": "display_data",
          "data": {
            "text/plain": [
              "<Figure size 432x288 with 1 Axes>"
            ],
            "image/png": "[encoded data removed]"
          },
          "metadata": {}
        }
      ]
    },
    {
      "cell_type": "code",
      "source": [
        "nx.has_path(w,3,4)"
      ],
      "metadata": {
        "colab": {
          "base_uri": "https://localhost:8080/"
        },
        "id": "XVlZ2V0fvQI_",
        "outputId": "349e8fcb-abea-4673-d7e0-88c61a25e13c"
      },
      "execution_count": 11,
      "outputs": [
        {
          "output_type": "execute_result",
          "data": {
            "text/plain": [
              "True"
            ]
          },
          "metadata": {},
          "execution_count": 11
        }
      ]
    },
    {
      "cell_type": "code",
      "source": [
        "print(nx.shortest_path_length(w,2,4))\n",
        "print(nx.shortest_path_length(w,2,4,'weight'))"
      ],
      "metadata": {
        "colab": {
          "base_uri": "https://localhost:8080/"
        },
        "id": "qsLONcCkvSxT",
        "outputId": "c50f35ce-e272-4f30-84bb-11e7fd28f122"
      },
      "execution_count": 12,
      "outputs": [
        {
          "output_type": "stream",
          "name": "stdout",
          "text": [
            "2\n",
            "3\n"
          ]
        }
      ]
    },
    {
      "cell_type": "code",
      "source": [
        "nx.average_shortest_path_length(w) "
      ],
      "metadata": {
        "colab": {
          "base_uri": "https://localhost:8080/"
        },
        "id": "8UDtZBMUvUBB",
        "outputId": "163915f8-b73b-42d1-ee98-726df40bbf9c"
      },
      "execution_count": 13,
      "outputs": [
        {
          "output_type": "execute_result",
          "data": {
            "text/plain": [
              "0.5833333333333334"
            ]
          },
          "metadata": {},
          "execution_count": 13
        }
      ]
    },
    {
      "cell_type": "code",
      "source": [
        "import scipy.stats\n",
        "\n",
        "nx.draw(g, with_labels = True)\n",
        "knn_dict = nx.average_degree_connectivity(g)\n",
        "k,knn = list(knn_dict.keys()), list(knn_dict.values())\n",
        "r, p_value = scipy.stats.pearsonr(k,knn)\n",
        "print(r)"
      ],
      "metadata": {
        "colab": {
          "base_uri": "https://localhost:8080/",
          "height": 337
        },
        "id": "4f1eo_OjvVub",
        "outputId": "9c333fcf-2341-4f36-b9fe-ab57929d0568"
      },
      "execution_count": 14,
      "outputs": [
        {
          "output_type": "stream",
          "name": "stdout",
          "text": [
            "-1.0\n"
          ]
        },
        {
          "output_type": "display_data",
          "data": {
            "text/plain": [
              "<Figure size 432x288 with 1 Axes>"
            ],
            "image/png": "[encoded data removed]"
          },
          "metadata": {}
        }
      ]
    },
    {
      "cell_type": "code",
      "source": [
        "nx.draw(w, with_labels = True)\n",
        "knn_dict = nx.average_degree_connectivity(w)\n",
        "k,knn = list(knn_dict.keys()), list(knn_dict.values())\n",
        "r, p_value = scipy.stats.pearsonr(k,knn)\n",
        "print(r)"
      ],
      "metadata": {
        "colab": {
          "base_uri": "https://localhost:8080/",
          "height": 337
        },
        "id": "Czp6H1m7vZCt",
        "outputId": "b63905d5-8c19-4ea3-9cbc-9d7d894e7903"
      },
      "execution_count": 15,
      "outputs": [
        {
          "output_type": "stream",
          "name": "stdout",
          "text": [
            "1.0\n"
          ]
        },
        {
          "output_type": "display_data",
          "data": {
            "text/plain": [
              "<Figure size 432x288 with 1 Axes>"
            ],
            "image/png": "[encoded data removed]"
          },
          "metadata": {}
        }
      ]
    },
    {
      "cell_type": "code",
      "source": [
        "# 가중치가 있는 방향성 네트워크\n",
        "\n",
        "f = nx.DiGraph() \n",
        "f.add_nodes_from([1,2,3,4])\n",
        "f.add_edge(1,2, weight = 3)\n",
        "f.add_edge(2,3, weight = 1) \n",
        "f.add_edge(1,3, weight = 5)\n",
        "f.add_edge(1,4, weight = 4)\n",
        "nx.draw(f, with_labels = True)\n",
        "nx.average_shortest_path_length(f,'weight')"
      ],
      "metadata": {
        "colab": {
          "base_uri": "https://localhost:8080/",
          "height": 337
        },
        "id": "bObY6FcZvcmO",
        "outputId": "d6b00473-76ee-48f1-c7d5-5582ad366400"
      },
      "execution_count": 16,
      "outputs": [
        {
          "output_type": "execute_result",
          "data": {
            "text/plain": [
              "1.0"
            ]
          },
          "metadata": {},
          "execution_count": 16
        },
        {
          "output_type": "display_data",
          "data": {
            "text/plain": [
              "<Figure size 432x288 with 1 Axes>"
            ],
            "image/png": "[encoded data removed]"
          },
          "metadata": {}
        }
      ]
    },
    {
      "cell_type": "markdown",
      "source": [
        "### 연결상태와 덩어리"
      ],
      "metadata": {
        "id": "mfU_jxf-vg6v"
      }
    },
    {
      "cell_type": "code",
      "source": [
        "k4 = nx.complete_graph(4)\n",
        "print(nx.is_connected(k4))"
      ],
      "metadata": {
        "colab": {
          "base_uri": "https://localhost:8080/"
        },
        "id": "OcgCc6lhveuJ",
        "outputId": "d90e60cf-c1bc-4466-c0ce-c4d2074543e4"
      },
      "execution_count": 17,
      "outputs": [
        {
          "output_type": "stream",
          "name": "stdout",
          "text": [
            "True\n"
          ]
        }
      ]
    },
    {
      "cell_type": "code",
      "source": [
        "g = nx.Graph()\n",
        "\n",
        "nx.add_cycle(g,[1,2,3])\n",
        "g.add_edge(4,5)\n",
        "\n",
        "nx.draw(g, with_labels = True)\n",
        "nx.is_connected(g)"
      ],
      "metadata": {
        "colab": {
          "base_uri": "https://localhost:8080/",
          "height": 337
        },
        "id": "I5Cg6VLDvj3l",
        "outputId": "35d09f84-6fe3-4d30-9419-b3cd4299eb0e"
      },
      "execution_count": 18,
      "outputs": [
        {
          "output_type": "execute_result",
          "data": {
            "text/plain": [
              "False"
            ]
          },
          "metadata": {},
          "execution_count": 18
        },
        {
          "output_type": "display_data",
          "data": {
            "text/plain": [
              "<Figure size 432x288 with 1 Axes>"
            ],
            "image/png": "[encoded data removed]"
          },
          "metadata": {}
        }
      ]
    },
    {
      "cell_type": "code",
      "source": [
        "comps = sorted(nx.connected_components(g),key=len, reverse=True)\n",
        "nodes_in_giant_comp = comps[0]\n",
        "gc = nx.subgraph(g, nodes_in_giant_comp)\n",
        "nx.is_connected(gc)"
      ],
      "metadata": {
        "colab": {
          "base_uri": "https://localhost:8080/"
        },
        "id": "HGitDO6EvlN8",
        "outputId": "e150f1ad-11fe-4ff9-ece8-f26e092e8773"
      },
      "execution_count": 19,
      "outputs": [
        {
          "output_type": "execute_result",
          "data": {
            "text/plain": [
              "True"
            ]
          },
          "metadata": {},
          "execution_count": 19
        }
      ]
    },
    {
      "cell_type": "code",
      "source": [
        "core_nodes = max(nx.connected_components(g), key = len)\n",
        "core = g.subgraph(core_nodes)\n",
        "\n",
        "nx.draw(core, with_labels = True)"
      ],
      "metadata": {
        "colab": {
          "base_uri": "https://localhost:8080/",
          "height": 319
        },
        "id": "qB6zzJvYvnQs",
        "outputId": "02cdf88e-7363-4bd1-d16e-7fad868d7f3b"
      },
      "execution_count": 20,
      "outputs": [
        {
          "output_type": "display_data",
          "data": {
            "text/plain": [
              "<Figure size 432x288 with 1 Axes>"
            ],
            "image/png": "[encoded data removed]"
          },
          "metadata": {}
        }
      ]
    },
    {
      "cell_type": "markdown",
      "source": [
        "### Directed paths & components"
      ],
      "metadata": {
        "id": "jhRJqh6evsj_"
      }
    },
    {
      "cell_type": "code",
      "source": [
        "d = nx.DiGraph()\n",
        "d.add_edges_from([\n",
        "    (1,2),\n",
        "    (2,3),\n",
        "    (3,2),(3,4),(3,5),\n",
        "    (4,2),(4,5),(4,6),\n",
        "    (5,6),\n",
        "    (6,4)\n",
        "    ])\n",
        "\n",
        "nx.draw(d, with_labels = True)"
      ],
      "metadata": {
        "colab": {
          "base_uri": "https://localhost:8080/",
          "height": 319
        },
        "id": "FSUGvYuMvp7_",
        "outputId": "a2d77cb4-1c66-47a0-af69-743ca8bb84ed"
      },
      "execution_count": 21,
      "outputs": [
        {
          "output_type": "display_data",
          "data": {
            "text/plain": [
              "<Figure size 432x288 with 1 Axes>"
            ],
            "image/png": "[encoded data removed]"
          },
          "metadata": {}
        }
      ]
    },
    {
      "cell_type": "code",
      "source": [
        "nx.has_path(d,1,4)"
      ],
      "metadata": {
        "colab": {
          "base_uri": "https://localhost:8080/"
        },
        "id": "JqMieJU4vui-",
        "outputId": "849002b4-857f-4ba4-996a-ed0c0536dd63"
      },
      "execution_count": 22,
      "outputs": [
        {
          "output_type": "execute_result",
          "data": {
            "text/plain": [
              "True"
            ]
          },
          "metadata": {},
          "execution_count": 22
        }
      ]
    },
    {
      "cell_type": "code",
      "source": [
        "nx.has_path(d,4,1)"
      ],
      "metadata": {
        "colab": {
          "base_uri": "https://localhost:8080/"
        },
        "id": "aJqhN_-gvwRR",
        "outputId": "35f2e57b-ba5e-4139-e4ad-1e8a677d25b8"
      },
      "execution_count": 23,
      "outputs": [
        {
          "output_type": "execute_result",
          "data": {
            "text/plain": [
              "False"
            ]
          },
          "metadata": {},
          "execution_count": 23
        }
      ]
    },
    {
      "cell_type": "code",
      "source": [
        "nx.shortest_path(d)"
      ],
      "metadata": {
        "colab": {
          "base_uri": "https://localhost:8080/"
        },
        "id": "H64oUSzVvxML",
        "outputId": "228cffdc-edda-4d4b-d173-840222d49bf0"
      },
      "execution_count": 24,
      "outputs": [
        {
          "output_type": "execute_result",
          "data": {
            "text/plain": [
              "{1: {1: [1],\n",
              "  2: [1, 2],\n",
              "  3: [1, 2, 3],\n",
              "  4: [1, 2, 3, 4],\n",
              "  5: [1, 2, 3, 5],\n",
              "  6: [1, 2, 3, 4, 6]},\n",
              " 2: {2: [2], 3: [2, 3], 4: [2, 3, 4], 5: [2, 3, 5], 6: [2, 3, 4, 6]},\n",
              " 3: {3: [3], 2: [3, 2], 4: [3, 4], 5: [3, 5], 6: [3, 4, 6]},\n",
              " 4: {4: [4], 2: [4, 2], 5: [4, 5], 6: [4, 6], 3: [4, 2, 3]},\n",
              " 5: {5: [5], 6: [5, 6], 4: [5, 6, 4], 2: [5, 6, 4, 2], 3: [5, 6, 4, 2, 3]},\n",
              " 6: {6: [6], 4: [6, 4], 2: [6, 4, 2], 5: [6, 4, 5], 3: [6, 4, 2, 3]}}"
            ]
          },
          "metadata": {},
          "execution_count": 24
        }
      ]
    },
    {
      "cell_type": "code",
      "source": [
        "nx.is_strongly_connected(d)"
      ],
      "metadata": {
        "colab": {
          "base_uri": "https://localhost:8080/"
        },
        "id": "DqC4KuRovycg",
        "outputId": "a89e37fd-8e00-4647-9b27-c10564bb7790"
      },
      "execution_count": 25,
      "outputs": [
        {
          "output_type": "execute_result",
          "data": {
            "text/plain": [
              "False"
            ]
          },
          "metadata": {},
          "execution_count": 25
        }
      ]
    },
    {
      "cell_type": "code",
      "source": [
        "nx.is_weakly_connected(d)"
      ],
      "metadata": {
        "colab": {
          "base_uri": "https://localhost:8080/"
        },
        "id": "CrVSCUGWvzuz",
        "outputId": "ed4e3410-110a-4153-81a9-cba558627d47"
      },
      "execution_count": 26,
      "outputs": [
        {
          "output_type": "execute_result",
          "data": {
            "text/plain": [
              "True"
            ]
          },
          "metadata": {},
          "execution_count": 26
        }
      ]
    },
    {
      "cell_type": "code",
      "source": [
        "list(nx.weakly_connected_components(d))"
      ],
      "metadata": {
        "colab": {
          "base_uri": "https://localhost:8080/"
        },
        "id": "b2YqlDopv0rt",
        "outputId": "95bb7b37-266c-4ef4-92bf-c6b73d1d51e9"
      },
      "execution_count": 27,
      "outputs": [
        {
          "output_type": "execute_result",
          "data": {
            "text/plain": [
              "[{1, 2, 3, 4, 5, 6}]"
            ]
          },
          "metadata": {},
          "execution_count": 27
        }
      ]
    },
    {
      "cell_type": "code",
      "source": [
        "list(nx.strongly_connected_components(d))"
      ],
      "metadata": {
        "colab": {
          "base_uri": "https://localhost:8080/"
        },
        "id": "Ot6LMWE2v1pn",
        "outputId": "6530dfea-2262-4f88-871e-5e8425e4589d"
      },
      "execution_count": 28,
      "outputs": [
        {
          "output_type": "execute_result",
          "data": {
            "text/plain": [
              "[{2, 3, 4, 5, 6}, {1}]"
            ]
          },
          "metadata": {},
          "execution_count": 28
        }
      ]
    },
    {
      "cell_type": "markdown",
      "source": [
        "### 트리 tree"
      ],
      "metadata": {
        "id": "G29rvAHDv3pg"
      }
    },
    {
      "cell_type": "code",
      "source": [
        "k4 = nx.complete_graph(4)\n",
        "nx.is_tree(k4)"
      ],
      "metadata": {
        "colab": {
          "base_uri": "https://localhost:8080/"
        },
        "id": "WeT0Dqb0v2j1",
        "outputId": "e2a0dc7d-0037-4cc4-b8cd-41d5cdd23c5f"
      },
      "execution_count": 29,
      "outputs": [
        {
          "output_type": "execute_result",
          "data": {
            "text/plain": [
              "False"
            ]
          },
          "metadata": {},
          "execution_count": 29
        }
      ]
    },
    {
      "cell_type": "code",
      "source": [
        "p = nx.path_graph(4)\n",
        "nx.is_tree(p)"
      ],
      "metadata": {
        "colab": {
          "base_uri": "https://localhost:8080/"
        },
        "id": "bqiHkHD4v56G",
        "outputId": "93c99f44-44f1-4a5d-d14c-53d31d9cb7e4"
      },
      "execution_count": 30,
      "outputs": [
        {
          "output_type": "execute_result",
          "data": {
            "text/plain": [
              "True"
            ]
          },
          "metadata": {},
          "execution_count": 30
        }
      ]
    },
    {
      "cell_type": "markdown",
      "source": [
        "### 삼각구조"
      ],
      "metadata": {
        "id": "N31CKla0v7fS"
      }
    },
    {
      "cell_type": "code",
      "source": [
        "nx.triangles(g) # 노드의 딕셔너리 -> 삼각구조 개수  "
      ],
      "metadata": {
        "colab": {
          "base_uri": "https://localhost:8080/"
        },
        "id": "q5DjwRjev602",
        "outputId": "114eb857-0ab9-497b-9d52-1d8e58ea6ea6"
      },
      "execution_count": 31,
      "outputs": [
        {
          "output_type": "execute_result",
          "data": {
            "text/plain": [
              "{1: 1, 2: 1, 3: 1, 4: 0, 5: 0}"
            ]
          },
          "metadata": {},
          "execution_count": 31
        }
      ]
    },
    {
      "cell_type": "code",
      "source": [
        "nx.clustering(g) # 노드의 딕셔너리 -> 뭉침 계수"
      ],
      "metadata": {
        "colab": {
          "base_uri": "https://localhost:8080/"
        },
        "id": "uuYHx7xiv9xA",
        "outputId": "ef79025c-2414-4796-b11c-a00170f8cd6d"
      },
      "execution_count": 32,
      "outputs": [
        {
          "output_type": "execute_result",
          "data": {
            "text/plain": [
              "{1: 1.0, 2: 1.0, 3: 1.0, 4: 0, 5: 0}"
            ]
          },
          "metadata": {},
          "execution_count": 32
        }
      ]
    },
    {
      "cell_type": "code",
      "source": [
        "nx.average_clustering(g) # 네트워크의 뭉침 계수"
      ],
      "metadata": {
        "colab": {
          "base_uri": "https://localhost:8080/"
        },
        "id": "TgAT3rXFv-nC",
        "outputId": "936bc534-2c54-4443-9b45-d6fbcfce4bcc"
      },
      "execution_count": 33,
      "outputs": [
        {
          "output_type": "execute_result",
          "data": {
            "text/plain": [
              "0.6"
            ]
          },
          "metadata": {},
          "execution_count": 33
        }
      ]
    },
    {
      "cell_type": "markdown",
      "source": [
        "## 연습문제 2강 15번"
      ],
      "metadata": {
        "id": "7C6G8w-92g9U"
      }
    },
    {
      "cell_type": "code",
      "source": [
        "import matplotlib.pyplot as plt\n",
        "\n",
        "d = nx.DiGraph()\n",
        "\n",
        "d.add_nodes_from([1,2,3,4,5,6])\n",
        "\n",
        "d.add_weighted_edges_from([(1,2,0.8),\n",
        "                           (1,3,0.6),\n",
        "                           (2,4,0.9),\n",
        "                           (3,5,0.5),\n",
        "                           (4,5,0.8),\n",
        "                           (4,6,0.3),\n",
        "                           (5,6,0.95)\n",
        "                           ])\n",
        "\n",
        "fixed_layout = {1:[0,0.5],\n",
        "                2:[1,1],\n",
        "                3:[1,0],\n",
        "                4:[2,1],\n",
        "                5:[2,0],\n",
        "                6:[3,0.5]}\n",
        "# 좌표 지정\n",
        "\n",
        "large = [(u,v) for (u,v,d) in d.edges(data = True) if d['weight'] > 0.5]\n",
        "small = [(u,v) for (u,v,d) in d.edges(data = True) if d['weight'] <= 0.5]\n",
        "\n",
        "# node\n",
        "nx.draw_networkx_nodes(d, pos = fixed_layout, node_size=700)\n",
        "\n",
        "# edge\n",
        "nx.draw_networkx_edges(d, pos = fixed_layout, edgelist = large, width = 3)\n",
        "nx.draw_networkx_edges(d, pos = fixed_layout, edgelist = small, width = 3,\n",
        "                       style = \"dashed\", alpha = 0.5, edge_color=\"b\")\n",
        "\n",
        "# node labels\n",
        "nx.draw_networkx_labels(d, pos = fixed_layout, font_size = 20)\n",
        "\n",
        "# edge weight labels\n",
        "edge_labels = nx.get_edge_attributes(d, 'weight')\n",
        "nx.draw_networkx_edge_labels(d, pos = fixed_layout, edge_labels=edge_labels)\n",
        "\n",
        "ax = plt.gca()\n",
        "ax.margins(0.08)\n",
        "plt.tight_layout()\n",
        "plt.show()"
      ],
      "metadata": {
        "colab": {
          "base_uri": "https://localhost:8080/",
          "height": 297
        },
        "id": "bZYXBCf52jhc",
        "outputId": "842eff45-3c33-4475-accb-a779397512d4"
      },
      "execution_count": 48,
      "outputs": [
        {
          "output_type": "display_data",
          "data": {
            "text/plain": [
              "<Figure size 432x288 with 1 Axes>"
            ],
            "image/png": "[encoded data removed]"
          },
          "metadata": {}
        }
      ]
    },
    {
      "cell_type": "code",
      "source": [
        "nx.is_weakly_connected(d)"
      ],
      "metadata": {
        "colab": {
          "base_uri": "https://localhost:8080/"
        },
        "id": "oiN0hcRM2nB5",
        "outputId": "58fa5644-66a3-4e57-cb4e-1a393fa27a8b"
      },
      "execution_count": 49,
      "outputs": [
        {
          "output_type": "execute_result",
          "data": {
            "text/plain": [
              "True"
            ]
          },
          "metadata": {},
          "execution_count": 49
        }
      ]
    },
    {
      "cell_type": "code",
      "source": [
        "print(nx.shortest_path(d,1,6))\n",
        "nx.shortest_path_length(d,1,6, weight='weight')"
      ],
      "metadata": {
        "colab": {
          "base_uri": "https://localhost:8080/"
        },
        "id": "AySukfJq2o0v",
        "outputId": "b8e9c991-de12-4ef9-eccf-6617240e3c2e"
      },
      "execution_count": 50,
      "outputs": [
        {
          "output_type": "stream",
          "name": "stdout",
          "text": [
            "[1, 2, 4, 6]\n"
          ]
        },
        {
          "output_type": "execute_result",
          "data": {
            "text/plain": [
              "2.0"
            ]
          },
          "metadata": {},
          "execution_count": 50
        }
      ]
    },
    {
      "cell_type": "markdown",
      "source": [
        "## 연습문제 2강 41번"
      ],
      "metadata": {
        "id": "_na93Xh-wBSA"
      }
    },
    {
      "cell_type": "code",
      "source": [
        "G = nx.read_edgelist('socfb-Northwestern25.edges.gz')"
      ],
      "metadata": {
        "id": "48UGNwMQv_vq"
      },
      "execution_count": 37,
      "outputs": []
    },
    {
      "cell_type": "code",
      "source": [
        "nx.draw(G)"
      ],
      "metadata": {
        "colab": {
          "base_uri": "https://localhost:8080/",
          "height": 319
        },
        "id": "t4UuVnbpwFgY",
        "outputId": "8920277e-7899-42ce-c518-2d65d709015f"
      },
      "execution_count": 38,
      "outputs": [
        {
          "output_type": "display_data",
          "data": {
            "text/plain": [
              "<Figure size 432x288 with 1 Axes>"
            ],
            "image/png": "[encoded data removed]"
          },
          "metadata": {}
        }
      ]
    },
    {
      "cell_type": "code",
      "source": [
        "G.number_of_edges()"
      ],
      "metadata": {
        "colab": {
          "base_uri": "https://localhost:8080/"
        },
        "id": "-48D9kTPxA5H",
        "outputId": "374791f8-ed14-4ea0-f588-80556076afeb"
      },
      "execution_count": 39,
      "outputs": [
        {
          "output_type": "execute_result",
          "data": {
            "text/plain": [
              "488337"
            ]
          },
          "metadata": {},
          "execution_count": 39
        }
      ]
    },
    {
      "cell_type": "code",
      "source": [
        "G.number_of_nodes()"
      ],
      "metadata": {
        "colab": {
          "base_uri": "https://localhost:8080/"
        },
        "id": "mnFl9WBCzCJb",
        "outputId": "65816ed1-8da6-4e67-e270-a3d78aadf633"
      },
      "execution_count": 40,
      "outputs": [
        {
          "output_type": "execute_result",
          "data": {
            "text/plain": [
              "10567"
            ]
          },
          "metadata": {},
          "execution_count": 40
        }
      ]
    },
    {
      "cell_type": "code",
      "source": [
        "nx.is_connected(G) # 연결 상태 확인"
      ],
      "metadata": {
        "colab": {
          "base_uri": "https://localhost:8080/"
        },
        "id": "KrKNH5WDzDYt",
        "outputId": "6e91b267-ebed-4f0f-f24d-961ff5bb0b42"
      },
      "execution_count": 41,
      "outputs": [
        {
          "output_type": "execute_result",
          "data": {
            "text/plain": [
              "False"
            ]
          },
          "metadata": {},
          "execution_count": 41
        }
      ]
    },
    {
      "cell_type": "code",
      "source": [
        "len(list(nx.degree(G)))"
      ],
      "metadata": {
        "colab": {
          "base_uri": "https://localhost:8080/"
        },
        "id": "TghkZK_2zLKd",
        "outputId": "72d33e99-f3ae-461b-ccb1-dca01973ae0a"
      },
      "execution_count": 42,
      "outputs": [
        {
          "output_type": "execute_result",
          "data": {
            "text/plain": [
              "10567"
            ]
          },
          "metadata": {},
          "execution_count": 42
        }
      ]
    },
    {
      "cell_type": "code",
      "source": [
        "nx.density(G) # 조밀도"
      ],
      "metadata": {
        "colab": {
          "base_uri": "https://localhost:8080/"
        },
        "id": "KzLp4YaKzO-A",
        "outputId": "0536bc6b-83fd-410a-ed85-57feb7610d5c"
      },
      "execution_count": 43,
      "outputs": [
        {
          "output_type": "execute_result",
          "data": {
            "text/plain": [
              "0.008747567709293077"
            ]
          },
          "metadata": {},
          "execution_count": 43
        }
      ]
    },
    {
      "cell_type": "code",
      "source": [
        "a = []\n",
        "\n",
        "for i in range(len(G.degree())):\n",
        "  a.append(list(G.degree())[i][1])\n",
        "print(sum(a))"
      ],
      "metadata": {
        "colab": {
          "base_uri": "https://localhost:8080/"
        },
        "id": "Yizd2f7VzWk5",
        "outputId": "d4cc71a7-f7d4-4ee3-d53a-df70b3616bc8"
      },
      "execution_count": 45,
      "outputs": [
        {
          "output_type": "stream",
          "name": "stdout",
          "text": [
            "976674\n"
          ]
        }
      ]
    },
    {
      "cell_type": "code",
      "source": [
        "nx.degree_assortativity_coefficient(G) # 동류성 계수"
      ],
      "metadata": {
        "colab": {
          "base_uri": "https://localhost:8080/"
        },
        "id": "82hheaHG0haW",
        "outputId": "3b64f1e3-fc2b-4618-b7d9-1310721c1dd4"
      },
      "execution_count": 46,
      "outputs": [
        {
          "output_type": "execute_result",
          "data": {
            "text/plain": [
              "0.03444129080711028"
            ]
          },
          "metadata": {},
          "execution_count": 46
        }
      ]
    },
    {
      "cell_type": "code",
      "source": [
        "import scipy.stats\n",
        "knn_dict = nx.k_nearest_neighbors(G)\n",
        "k, knn = list(knn_dict.keys()), list(knn_dict.values())\n",
        "r, p_value = scipy.stats.pearsonr(k,knn)"
      ],
      "metadata": {
        "colab": {
          "base_uri": "https://localhost:8080/"
        },
        "id": "7mvidvGX3A-v",
        "outputId": "31595de2-00c5-457d-cc42-b9ffba6612ea"
      },
      "execution_count": 53,
      "outputs": [
        {
          "output_type": "stream",
          "name": "stderr",
          "text": [
            "/usr/local/lib/python3.7/dist-packages/ipykernel_launcher.py:2: DeprecationWarning: k_nearest_neighbors function is deprecated and will be removed in v3.0.\n",
            "Use `average_degree_connectivity` instead.\n",
            "  \n"
          ]
        }
      ]
    },
    {
      "cell_type": "code",
      "source": [
        "print(r, p_value)"
      ],
      "metadata": {
        "colab": {
          "base_uri": "https://localhost:8080/"
        },
        "id": "oz7mR3ED3peJ",
        "outputId": "f124cb60-28b1-4fad-e6f2-1a9d07303feb"
      },
      "execution_count": 55,
      "outputs": [
        {
          "output_type": "stream",
          "name": "stdout",
          "text": [
            "0.3618599341103246 1.9367205873909175e-14\n"
          ]
        }
      ]
    },
    {
      "cell_type": "code",
      "source": [
        "nx.average_clustering(G) # 뭉침 계수"
      ],
      "metadata": {
        "colab": {
          "base_uri": "https://localhost:8080/"
        },
        "id": "XNmwaNkr0h_b",
        "outputId": "a01cb0ae-78c8-4104-fa24-fb227b4b6396"
      },
      "execution_count": 47,
      "outputs": [
        {
          "output_type": "execute_result",
          "data": {
            "text/plain": [
              "0.2379913948280604"
            ]
          },
          "metadata": {},
          "execution_count": 47
        }
      ]
    },
    {
      "cell_type": "code",
      "source": [],
      "metadata": {
        "id": "ElV40mZ906XT"
      },
      "execution_count": null,
      "outputs": []
    }
  ]
}