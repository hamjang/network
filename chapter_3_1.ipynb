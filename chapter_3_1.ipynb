{
  "nbformat": 4,
  "nbformat_minor": 0,
  "metadata": {
    "colab": {
      "provenance": [],
      "collapsed_sections": []
    },
    "kernelspec": {
      "name": "python3",
      "display_name": "Python 3"
    },
    "language_info": {
      "name": "python"
    }
  },
  "cells": [
    {
      "cell_type": "code",
      "execution_count": 83,
      "metadata": {
        "id": "Eu7x2dNhGRbZ"
      },
      "outputs": [],
      "source": [
        "import networkx as nx\n",
        "import matplotlib.pyplot as plt\n",
        "import numpy as np\n",
        "\n"
      ]
    },
    {
      "cell_type": "markdown",
      "source": [
        "#### 문제3.6"
      ],
      "metadata": {
        "id": "w2rC9CDrHl3b"
      }
    },
    {
      "cell_type": "code",
      "source": [
        "b = nx.Graph()\n",
        "\n",
        "b.add_edges_from([(1,2),\n",
        "                  (2,3),\n",
        "                  (1,4),\n",
        "                  (4,2)])\n",
        "size = [b.degree(n) for n in b.nodes]\n",
        "\n",
        "nx.draw(b, with_labels = True, node_size = size)"
      ],
      "metadata": {
        "colab": {
          "base_uri": "https://localhost:8080/",
          "height": 319
        },
        "id": "5HS0fP_UGVBf",
        "outputId": "af54988f-f4b0-4aac-f127-a81d6e4f7399"
      },
      "execution_count": null,
      "outputs": [
        {
          "output_type": "display_data",
          "data": {
            "text/plain": [
              "<Figure size 432x288 with 1 Axes>"
            ],
            "image/png": "[encoded data removed]"
          },
          "metadata": {}
        }
      ]
    },
    {
      "cell_type": "code",
      "source": [
        "a = nx.Graph()\n",
        "\n",
        "a.add_edges_from([(1,2),\n",
        "                  (2,3),(2,7),\n",
        "                  (3,5),(3,6),(3,7),\n",
        "                  (5,6),\n",
        "                  (7,4)])\n",
        "\n",
        "fix = {1:[0,1],\n",
        "       2:[0.5,1],\n",
        "       3:[0.5,0.5],\n",
        "       4:[1,1],\n",
        "       5:[0,0.5],\n",
        "       6:[0.5,0],\n",
        "       7:[1,0.5]}\n",
        "\n",
        "options = {\"node_color\":\"blue\", \"node_size\":2000}\n",
        "\n",
        "nx.draw_networkx_nodes(a, pos = fix, node_size=2000, node_color = 'red')\n",
        "nx.draw_networkx_nodes(a, pos = fix, nodelist=[3], **options)\n",
        "\n",
        "nx.draw_networkx_labels(a, pos = fix, font_size=14, font_color = 'white')\n",
        "\n",
        "nx.draw_networkx_edges(a, pos = fix, width = 3)\n",
        "\n",
        "\n",
        "ax = plt.gca()\n",
        "ax.margins(0.08)\n",
        "plt.tight_layout()\n",
        "plt.show()"
      ],
      "metadata": {
        "colab": {
          "base_uri": "https://localhost:8080/",
          "height": 297
        },
        "id": "L2ellKMNHH19",
        "outputId": "32e3d22d-9825-420a-ac99-5f2b07dbe7cd"
      },
      "execution_count": null,
      "outputs": [
        {
          "output_type": "display_data",
          "data": {
            "text/plain": [
              "<Figure size 432x288 with 1 Axes>"
            ],
            "image/png": "[encoded data removed]"
          },
          "metadata": {}
        }
      ]
    },
    {
      "cell_type": "code",
      "source": [
        "close = nx.closeness_centrality(a)\n",
        "close\n",
        "#노드의 근접 중심도"
      ],
      "metadata": {
        "colab": {
          "base_uri": "https://localhost:8080/"
        },
        "id": "IuZNb_VvK-n0",
        "outputId": "7fd6ed40-a49d-42c4-f933-34c5b7d928a9"
      },
      "execution_count": null,
      "outputs": [
        {
          "output_type": "execute_result",
          "data": {
            "text/plain": [
              "{1: 0.42857142857142855,\n",
              " 2: 0.6666666666666666,\n",
              " 3: 0.75,\n",
              " 7: 0.6666666666666666,\n",
              " 5: 0.5,\n",
              " 6: 0.5,\n",
              " 4: 0.42857142857142855}"
            ]
          },
          "metadata": {},
          "execution_count": 4
        }
      ]
    },
    {
      "cell_type": "code",
      "source": [
        "nd = nx.betweenness_centrality(a)\n",
        "nd\n",
        "#노드의 사이중심점"
      ],
      "metadata": {
        "colab": {
          "base_uri": "https://localhost:8080/"
        },
        "id": "7zccYqN6N9SJ",
        "outputId": "21adddec-2195-444e-c037-04ec51a46274"
      },
      "execution_count": null,
      "outputs": [
        {
          "output_type": "execute_result",
          "data": {
            "text/plain": [
              "{1: 0.0,\n",
              " 2: 0.3333333333333333,\n",
              " 3: 0.5333333333333333,\n",
              " 7: 0.3333333333333333,\n",
              " 5: 0.0,\n",
              " 6: 0.0,\n",
              " 4: 0.0}"
            ]
          },
          "metadata": {},
          "execution_count": 5
        }
      ]
    },
    {
      "cell_type": "code",
      "source": [
        "t = nx.triangles(a)\n",
        "t\n",
        "# 노드의 삼각구조 개수"
      ],
      "metadata": {
        "colab": {
          "base_uri": "https://localhost:8080/"
        },
        "id": "UhqEMzZwOoqq",
        "outputId": "fdac308f-8d9b-4962-cd31-5c6d6d1e3e53"
      },
      "execution_count": null,
      "outputs": [
        {
          "output_type": "execute_result",
          "data": {
            "text/plain": [
              "{1: 0, 2: 1, 3: 2, 7: 1, 5: 1, 6: 1, 4: 0}"
            ]
          },
          "metadata": {},
          "execution_count": 6
        }
      ]
    },
    {
      "cell_type": "code",
      "source": [
        "mc = nx.clustering(a)\n",
        "mc\n",
        "#노드의 뭉침 계수"
      ],
      "metadata": {
        "colab": {
          "base_uri": "https://localhost:8080/"
        },
        "id": "8WwT41VhPTmi",
        "outputId": "29a57140-98ea-404a-e3fd-3ed50d65adea"
      },
      "execution_count": null,
      "outputs": [
        {
          "output_type": "execute_result",
          "data": {
            "text/plain": [
              "{1: 0,\n",
              " 2: 0.3333333333333333,\n",
              " 3: 0.3333333333333333,\n",
              " 7: 0.3333333333333333,\n",
              " 5: 1.0,\n",
              " 6: 1.0,\n",
              " 4: 0}"
            ]
          },
          "metadata": {},
          "execution_count": 7
        }
      ]
    },
    {
      "cell_type": "code",
      "source": [
        "avrmc = nx.average_clustering(a)\n",
        "avrmc\n",
        "#네트워크의 평균 뭉침계수\n"
      ],
      "metadata": {
        "colab": {
          "base_uri": "https://localhost:8080/"
        },
        "id": "6A-jNj0GPjGB",
        "outputId": "32c58953-8050-43c5-c02a-8c8378d7b315"
      },
      "execution_count": null,
      "outputs": [
        {
          "output_type": "execute_result",
          "data": {
            "text/plain": [
              "0.42857142857142855"
            ]
          },
          "metadata": {},
          "execution_count": 8
        }
      ]
    },
    {
      "cell_type": "markdown",
      "source": [
        "#### 문제 3.11"
      ],
      "metadata": {
        "id": "XuPuYTUfxZ7m"
      }
    },
    {
      "cell_type": "code",
      "source": [
        "c = nx.Graph()\n",
        "\n",
        "c.add_edges_from([(1,2),(1,3),\n",
        "                  (2,3),(2,5),\n",
        "                  (3,4),\n",
        "                  (5,7),(5,6)])\n",
        "\n",
        "nx.draw(c, with_labels = True)"
      ],
      "metadata": {
        "colab": {
          "base_uri": "https://localhost:8080/",
          "height": 319
        },
        "id": "aIllDesYPyuk",
        "outputId": "653ffa4f-4233-40b4-9ac0-7bdadb95df01"
      },
      "execution_count": null,
      "outputs": [
        {
          "output_type": "display_data",
          "data": {
            "text/plain": [
              "<Figure size 432x288 with 1 Axes>"
            ],
            "image/png": "[encoded data removed]"
          },
          "metadata": {}
        }
      ]
    },
    {
      "cell_type": "code",
      "source": [
        "close = nx.closeness_centrality(c)\n",
        "close\n",
        "#노드의 근접 중심도"
      ],
      "metadata": {
        "colab": {
          "base_uri": "https://localhost:8080/"
        },
        "id": "4BdIk00HvyZ0",
        "outputId": "3d8f8d23-e386-427d-b278-9b816c6752f9"
      },
      "execution_count": null,
      "outputs": [
        {
          "output_type": "execute_result",
          "data": {
            "text/plain": [
              "{1: 0.5,\n",
              " 2: 0.6666666666666666,\n",
              " 3: 0.5454545454545454,\n",
              " 5: 0.6,\n",
              " 4: 0.375,\n",
              " 7: 0.4,\n",
              " 6: 0.4}"
            ]
          },
          "metadata": {},
          "execution_count": 10
        }
      ]
    },
    {
      "cell_type": "code",
      "source": [
        "nd = nx.betweenness_centrality(c)\n",
        "nd\n",
        "#노드의 사이중심점"
      ],
      "metadata": {
        "colab": {
          "base_uri": "https://localhost:8080/"
        },
        "id": "TNM1QhvFxH5W",
        "outputId": "f4dba391-b664-4e44-dad9-4e6aec0c699d"
      },
      "execution_count": null,
      "outputs": [
        {
          "output_type": "execute_result",
          "data": {
            "text/plain": [
              "{1: 0.0, 2: 0.6, 3: 0.3333333333333333, 5: 0.6, 4: 0.0, 7: 0.0, 6: 0.0}"
            ]
          },
          "metadata": {},
          "execution_count": 11
        }
      ]
    },
    {
      "cell_type": "code",
      "source": [
        "c_degree_max = np.max([c.degree(n) for n in c.nodes])\n",
        "\n",
        "sample = dict(nx.degree(c))\n",
        "ans = []\n",
        "\n",
        "for key, value in sample.items():\n",
        "    if value == c_degree_max :\n",
        "         ans.append(key)\n",
        "         \n",
        "print(ans, c_degree_max)"
      ],
      "metadata": {
        "colab": {
          "base_uri": "https://localhost:8080/"
        },
        "id": "1BzbLEFOwkvG",
        "outputId": "e1455337-5f29-450a-febe-1879a9249ee8"
      },
      "execution_count": null,
      "outputs": [
        {
          "output_type": "stream",
          "name": "stdout",
          "text": [
            "[2, 3, 5] 3\n"
          ]
        }
      ]
    },
    {
      "cell_type": "markdown",
      "source": [
        "- 노드 2 가 근접 중심점이 가장 높고, 노드 2, 3, 5가 연결선 수가 높고, 사이 중심점은 노드 2, 5가 가장 높다"
      ],
      "metadata": {
        "id": "thp551WDw596"
      }
    },
    {
      "cell_type": "markdown",
      "source": [
        "#### 문제 3.17"
      ],
      "metadata": {
        "id": "B8sDvcqWLYFn"
      }
    },
    {
      "cell_type": "code",
      "source": [
        "air = nx.read_graphml('../openflights_usa.graphml.gz')\n",
        "nx.draw(air)"
      ],
      "metadata": {
        "colab": {
          "base_uri": "https://localhost:8080/",
          "height": 319
        },
        "id": "UC9llo1KwsBg",
        "outputId": "ff2cb15f-1ae4-4e34-9b85-435c9779060a"
      },
      "execution_count": null,
      "outputs": [
        {
          "output_type": "display_data",
          "data": {
            "text/plain": [
              "<Figure size 432x288 with 1 Axes>"
            ],
            "image/png": "[encoded data removed]"
          },
          "metadata": {}
        }
      ]
    },
    {
      "cell_type": "code",
      "source": [
        "air_degree_mean = np.mean([air.degree(n) for n in air.nodes])\n",
        "round(air_degree_mean,2)\n",
        "# 평균 연결선 수"
      ],
      "metadata": {
        "colab": {
          "base_uri": "https://localhost:8080/"
        },
        "id": "K92ZcO7ZLfaY",
        "outputId": "70532264-51b8-475a-f64a-11b681e0e331"
      },
      "execution_count": null,
      "outputs": [
        {
          "output_type": "execute_result",
          "data": {
            "text/plain": [
              "10.19"
            ]
          },
          "metadata": {},
          "execution_count": 63
        }
      ]
    },
    {
      "cell_type": "code",
      "source": [
        "air_rank = dict(air.degree())\n",
        "result = sorted(air_rank.items(), key=lambda x: x[1], reverse=True)[:5]\n",
        "result\n",
        "#연결선수 상위 5개 "
      ],
      "metadata": {
        "colab": {
          "base_uri": "https://localhost:8080/"
        },
        "id": "6kAGl50HMVee",
        "outputId": "142d3a8e-72cd-40c6-b008-1daa59b6730d"
      },
      "execution_count": null,
      "outputs": [
        {
          "output_type": "execute_result",
          "data": {
            "text/plain": [
              "[('ATL', 153), ('ORD', 149), ('DEN', 148), ('DFW', 138), ('MSP', 117)]"
            ]
          },
          "metadata": {},
          "execution_count": 33
        }
      ]
    },
    {
      "cell_type": "code",
      "source": [
        " sum = 0\n",
        " for key, value in air_rank.items():\n",
        "   if value == 1:\n",
        "     sum += 1\n",
        "print(sum)\n"
      ],
      "metadata": {
        "colab": {
          "base_uri": "https://localhost:8080/"
        },
        "id": "wgpNFfedNXjP",
        "outputId": "67dd478f-a32c-4400-f59c-03b1a1dddc1a"
      },
      "execution_count": null,
      "outputs": [
        {
          "output_type": "stream",
          "name": "stdout",
          "text": [
            "156\n"
          ]
        }
      ]
    },
    {
      "cell_type": "code",
      "source": [
        "close = nx.closeness_centrality(air)\n",
        "result = sorted(close.items(), key=lambda x: x[1], reverse=True)[:5]\n",
        "result"
      ],
      "metadata": {
        "colab": {
          "base_uri": "https://localhost:8080/"
        },
        "id": "qv8FnmGhPDEu",
        "outputId": "4459fff7-1252-4f2c-9048-dd714248aa07"
      },
      "execution_count": null,
      "outputs": [
        {
          "output_type": "execute_result",
          "data": {
            "text/plain": [
              "[('DEN', 0.5038803683651619),\n",
              " ('ORD', 0.5019753386170895),\n",
              " ('LAS', 0.4872384479420925),\n",
              " ('MSP', 0.4872384479420925),\n",
              " ('SEA', 0.47889080997013594)]"
            ]
          },
          "metadata": {},
          "execution_count": 41
        }
      ]
    },
    {
      "cell_type": "code",
      "source": [
        "nd = nx.betweenness_centrality(air)\n",
        "result = sorted(nd.items(), key=lambda x: x[1], reverse=True)[:5]\n",
        "result"
      ],
      "metadata": {
        "colab": {
          "base_uri": "https://localhost:8080/"
        },
        "id": "3xFviPTGSZae",
        "outputId": "7fc545d5-d143-4fee-855b-4612c3ae8362"
      },
      "execution_count": null,
      "outputs": [
        {
          "output_type": "execute_result",
          "data": {
            "text/plain": [
              "[('ANC', 0.3189906081983976),\n",
              " ('DEN', 0.15085303312493564),\n",
              " ('ORD', 0.12609401269592674),\n",
              " ('SEA', 0.12208809426888925),\n",
              " ('ATL', 0.08889776963308971)]"
            ]
          },
          "metadata": {},
          "execution_count": 42
        }
      ]
    },
    {
      "cell_type": "markdown",
      "source": [
        "#### 불균일도"
      ],
      "metadata": {
        "id": "OWUuj36EZkQS"
      }
    },
    {
      "cell_type": "code",
      "source": [
        "k1 = nx.density(air)*(air_node-1) # 평균 연결선 수 = 조밀도 * (노드의 개수 - 1)\n",
        "k1"
      ],
      "metadata": {
        "colab": {
          "base_uri": "https://localhost:8080/"
        },
        "id": "fPkx2O0-TNy0",
        "outputId": "a68f9705-02b7-4007-e430-2ec4450c8b9c"
      },
      "execution_count": null,
      "outputs": [
        {
          "output_type": "execute_result",
          "data": {
            "text/plain": [
              "10.186813186813186"
            ]
          },
          "metadata": {},
          "execution_count": 45
        }
      ]
    },
    {
      "cell_type": "code",
      "source": [
        " ad = dict(air.degree)"
      ],
      "metadata": {
        "id": "TL45u0EyVJvf"
      },
      "execution_count": null,
      "outputs": []
    },
    {
      "cell_type": "code",
      "source": [
        "sum = 0\n",
        "for value in ad.values() :\n",
        "  sum += value**2\n",
        "\n",
        "print(sum)"
      ],
      "metadata": {
        "colab": {
          "base_uri": "https://localhost:8080/"
        },
        "id": "cSKuAek3WiFn",
        "outputId": "954a1e37-1164-4dd2-a561-a11758129724"
      },
      "execution_count": null,
      "outputs": [
        {
          "output_type": "stream",
          "name": "stdout",
          "text": [
            "302984\n"
          ]
        }
      ]
    },
    {
      "cell_type": "code",
      "source": [
        "type(ad)"
      ],
      "metadata": {
        "colab": {
          "base_uri": "https://localhost:8080/"
        },
        "id": "OX_BLqnbXqTE",
        "outputId": "976d2378-1f3e-4398-f054-39795a9a67e2"
      },
      "execution_count": null,
      "outputs": [
        {
          "output_type": "execute_result",
          "data": {
            "text/plain": [
              "dict"
            ]
          },
          "metadata": {},
          "execution_count": 65
        }
      ]
    },
    {
      "cell_type": "code",
      "source": [
        "k2 = sum/len(ad)\n",
        "k2"
      ],
      "metadata": {
        "colab": {
          "base_uri": "https://localhost:8080/"
        },
        "id": "N7LgMMf-X4i3",
        "outputId": "0688e8df-e1d6-48cf-8c96-0d95d9a77ca2"
      },
      "execution_count": null,
      "outputs": [
        {
          "output_type": "execute_result",
          "data": {
            "text/plain": [
              "554.9157509157509"
            ]
          },
          "metadata": {},
          "execution_count": 73
        }
      ]
    },
    {
      "cell_type": "code",
      "source": [
        "result = k2/k1**2\n",
        "round(result,2)"
      ],
      "metadata": {
        "colab": {
          "base_uri": "https://localhost:8080/"
        },
        "id": "bpcfhlYqZB_X",
        "outputId": "880bba2a-29ca-4762-d355-6073235204b1"
      },
      "execution_count": null,
      "outputs": [
        {
          "output_type": "execute_result",
          "data": {
            "text/plain": [
              "5.35"
            ]
          },
          "metadata": {},
          "execution_count": 77
        }
      ]
    },
    {
      "cell_type": "markdown",
      "source": [
        "####문제 3.18"
      ],
      "metadata": {
        "id": "AGFxKXwDZ172"
      }
    },
    {
      "cell_type": "code",
      "source": [
        "math = nx.read_graphml('/content/enwiki_math.graphml.gz')"
      ],
      "metadata": {
        "id": "qKNrqYZJZKqK"
      },
      "execution_count": 84,
      "outputs": []
    },
    {
      "cell_type": "code",
      "source": [
        "nd_in = [math.in_degree(n) for n in math.nodes()]\n",
        "nd_out = [math.out_degree(n) for n in math.nodes()]\n",
        "print(round(np.mean(nd_in),2), round(np.mean(nd_out),2))"
      ],
      "metadata": {
        "colab": {
          "base_uri": "https://localhost:8080/"
        },
        "id": "HkUB8MutdK8b",
        "outputId": "3755fac2-7672-43f5-f1fe-5b60c63894c8"
      },
      "execution_count": 86,
      "outputs": [
        {
          "output_type": "stream",
          "name": "stdout",
          "text": [
            "12.75 12.75\n"
          ]
        }
      ]
    },
    {
      "cell_type": "code",
      "source": [
        "nd_rank = dict(math.in_degree())\n",
        "result1 = sorted(nd_rank.items(), key=lambda x: x[1], reverse=True)[:5]\n",
        "result1"
      ],
      "metadata": {
        "colab": {
          "base_uri": "https://localhost:8080/"
        },
        "id": "Gz-kCzGqd3I_",
        "outputId": "26ac9d2a-1c42-4215-85db-01bbb6ba8b33"
      },
      "execution_count": 89,
      "outputs": [
        {
          "output_type": "execute_result",
          "data": {
            "text/plain": [
              "[('1152126', 5171),\n",
              " ('18831', 4853),\n",
              " ('18902', 4148),\n",
              " ('1485646', 2072),\n",
              " ('198822', 1581)]"
            ]
          },
          "metadata": {},
          "execution_count": 89
        }
      ]
    },
    {
      "cell_type": "code",
      "source": [
        "nd_rank = dict(math.out_degree())\n",
        "result2 = sorted(nd_rank.items(), key=lambda x: x[1], reverse=True)[:5]\n",
        "result2"
      ],
      "metadata": {
        "colab": {
          "base_uri": "https://localhost:8080/"
        },
        "id": "0a4O-3Ybd79s",
        "outputId": "153389ec-3f87-405d-d0f9-b4ed840613f5"
      },
      "execution_count": 91,
      "outputs": [
        {
          "output_type": "execute_result",
          "data": {
            "text/plain": [
              "[('47738065', 1356),\n",
              " ('14403539', 1312),\n",
              " ('5971830', 841),\n",
              " ('5971797', 777),\n",
              " ('11254442', 718)]"
            ]
          },
          "metadata": {},
          "execution_count": 91
        }
      ]
    },
    {
      "cell_type": "code",
      "source": [],
      "metadata": {
        "id": "8b9qlS2OevDB"
      },
      "execution_count": null,
      "outputs": []
    }
  ]
}