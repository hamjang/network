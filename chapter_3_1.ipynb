{
  "nbformat": 4,
  "nbformat_minor": 0,
  "metadata": {
    "colab": {
      "provenance": [],
      "collapsed_sections": []
    },
    "kernelspec": {
      "name": "python3",
      "display_name": "Python 3"
    },
    "language_info": {
      "name": "python"
    }
  },
  "cells": [
    {
      "cell_type": "code",
      "execution_count": 1,
      "metadata": {
        "id": "Eu7x2dNhGRbZ"
      },
      "outputs": [],
      "source": [
        "import networkx as nx\n",
        "import matplotlib.pyplot as plt\n",
        "import numpy as np\n",
        "\n"
      ]
    },
    {
      "cell_type": "markdown",
      "source": [
        "#### 문제3.6"
      ],
      "metadata": {
        "id": "w2rC9CDrHl3b"
      }
    },
    {
      "cell_type": "code",
      "source": [
        "b = nx.Graph()\n",
        "\n",
        "b.add_edges_from([(1,2),\n",
        "                  (2,3),\n",
        "                  (1,4),\n",
        "                  (4,2)])\n",
        "size = [b.degree(n) for n in b.nodes]\n",
        "\n",
        "nx.draw(b, with_labels = True, node_size = size)"
      ],
      "metadata": {
        "colab": {
          "base_uri": "https://localhost:8080/",
          "height": 319
        },
        "id": "5HS0fP_UGVBf",
        "outputId": "8696c390-165e-4b73-c64d-fdfc58d10741"
      },
      "execution_count": 2,
      "outputs": [
        {
          "output_type": "display_data",
          "data": {
            "text/plain": [
              "<Figure size 432x288 with 1 Axes>"
            ],
            "image/png": "[encoded data removed]"
          },
          "metadata": {}
        }
      ]
    },
    {
      "cell_type": "code",
      "source": [
        "a = nx.Graph()\n",
        "\n",
        "a.add_edges_from([(1,2),\n",
        "                  (2,3),(2,7),\n",
        "                  (3,5),(3,6),(3,7),\n",
        "                  (5,6),\n",
        "                  (7,4)])\n",
        "\n",
        "fix = {1:[0,1],\n",
        "       2:[0.5,1],\n",
        "       3:[0.5,0.5],\n",
        "       4:[1,1],\n",
        "       5:[0,0.5],\n",
        "       6:[0.5,0],\n",
        "       7:[1,0.5]}\n",
        "\n",
        "options = {\"node_color\":\"blue\", \"node_size\":2000}\n",
        "\n",
        "nx.draw_networkx_nodes(a, pos = fix, node_size=2000, node_color = 'red')\n",
        "nx.draw_networkx_nodes(a, pos = fix, nodelist=[3], **options)\n",
        "\n",
        "nx.draw_networkx_labels(a, pos = fix, font_size=14, font_color = 'white')\n",
        "\n",
        "nx.draw_networkx_edges(a, pos = fix, width = 3)\n",
        "\n",
        "\n",
        "ax = plt.gca()\n",
        "ax.margins(0.08)\n",
        "plt.tight_layout()\n",
        "plt.show()"
      ],
      "metadata": {
        "colab": {
          "base_uri": "https://localhost:8080/",
          "height": 297
        },
        "id": "L2ellKMNHH19",
        "outputId": "91ff3d16-0754-4ca6-a262-0fbdfceb4002"
      },
      "execution_count": 3,
      "outputs": [
        {
          "output_type": "display_data",
          "data": {
            "text/plain": [
              "<Figure size 432x288 with 1 Axes>"
            ],
            "image/png": "[encoded data removed]"
          },
          "metadata": {}
        }
      ]
    },
    {
      "cell_type": "code",
      "source": [
        "close = nx.closeness_centrality(a)\n",
        "close\n",
        "#노드의 근접 중심도"
      ],
      "metadata": {
        "colab": {
          "base_uri": "https://localhost:8080/"
        },
        "id": "IuZNb_VvK-n0",
        "outputId": "b6d4a020-2c09-4615-f8bd-6e67d46e41c4"
      },
      "execution_count": 4,
      "outputs": [
        {
          "output_type": "execute_result",
          "data": {
            "text/plain": [
              "{1: 0.42857142857142855,\n",
              " 2: 0.6666666666666666,\n",
              " 3: 0.75,\n",
              " 7: 0.6666666666666666,\n",
              " 5: 0.5,\n",
              " 6: 0.5,\n",
              " 4: 0.42857142857142855}"
            ]
          },
          "metadata": {},
          "execution_count": 4
        }
      ]
    },
    {
      "cell_type": "code",
      "source": [
        "nd = nx.betweenness_centrality(a)\n",
        "nd\n",
        "#노드의 사이중심점"
      ],
      "metadata": {
        "colab": {
          "base_uri": "https://localhost:8080/"
        },
        "id": "7zccYqN6N9SJ",
        "outputId": "51304fd8-8fc7-4f37-8673-8334398e31f4"
      },
      "execution_count": 5,
      "outputs": [
        {
          "output_type": "execute_result",
          "data": {
            "text/plain": [
              "{1: 0.0,\n",
              " 2: 0.3333333333333333,\n",
              " 3: 0.5333333333333333,\n",
              " 7: 0.3333333333333333,\n",
              " 5: 0.0,\n",
              " 6: 0.0,\n",
              " 4: 0.0}"
            ]
          },
          "metadata": {},
          "execution_count": 5
        }
      ]
    },
    {
      "cell_type": "code",
      "source": [
        "t = nx.triangles(a)\n",
        "t\n",
        "# 노드의 삼각구조 개수"
      ],
      "metadata": {
        "colab": {
          "base_uri": "https://localhost:8080/"
        },
        "id": "UhqEMzZwOoqq",
        "outputId": "a01392f4-a4a3-4311-c794-ec1e419dc9c4"
      },
      "execution_count": 6,
      "outputs": [
        {
          "output_type": "execute_result",
          "data": {
            "text/plain": [
              "{1: 0, 2: 1, 3: 2, 7: 1, 5: 1, 6: 1, 4: 0}"
            ]
          },
          "metadata": {},
          "execution_count": 6
        }
      ]
    },
    {
      "cell_type": "code",
      "source": [
        "mc = nx.clustering(a)\n",
        "mc\n",
        "#노드의 뭉침 계수"
      ],
      "metadata": {
        "colab": {
          "base_uri": "https://localhost:8080/"
        },
        "id": "8WwT41VhPTmi",
        "outputId": "f2591c9b-8300-45e3-9095-e01bd4cfc9d6"
      },
      "execution_count": 7,
      "outputs": [
        {
          "output_type": "execute_result",
          "data": {
            "text/plain": [
              "{1: 0,\n",
              " 2: 0.3333333333333333,\n",
              " 3: 0.3333333333333333,\n",
              " 7: 0.3333333333333333,\n",
              " 5: 1.0,\n",
              " 6: 1.0,\n",
              " 4: 0}"
            ]
          },
          "metadata": {},
          "execution_count": 7
        }
      ]
    },
    {
      "cell_type": "code",
      "source": [
        "avrmc = nx.average_clustering(a)\n",
        "avrmc\n",
        "#네트워크의 평균 뭉침계수\n"
      ],
      "metadata": {
        "colab": {
          "base_uri": "https://localhost:8080/"
        },
        "id": "6A-jNj0GPjGB",
        "outputId": "fa7bc925-fbd2-441b-d8b0-7685b1898741"
      },
      "execution_count": 8,
      "outputs": [
        {
          "output_type": "execute_result",
          "data": {
            "text/plain": [
              "0.42857142857142855"
            ]
          },
          "metadata": {},
          "execution_count": 8
        }
      ]
    },
    {
      "cell_type": "markdown",
      "source": [
        "#### 문제 3.11"
      ],
      "metadata": {
        "id": "XuPuYTUfxZ7m"
      }
    },
    {
      "cell_type": "code",
      "source": [
        "c = nx.Graph()\n",
        "\n",
        "c.add_edges_from([(1,2),(1,3),\n",
        "                  (2,3),(2,5),\n",
        "                  (3,4),\n",
        "                  (5,7),(5,6)])\n",
        "\n",
        "nx.draw(c, with_labels = True)"
      ],
      "metadata": {
        "colab": {
          "base_uri": "https://localhost:8080/",
          "height": 319
        },
        "id": "aIllDesYPyuk",
        "outputId": "cf750e60-29a8-4978-9867-712bc61b5cf5"
      },
      "execution_count": 9,
      "outputs": [
        {
          "output_type": "display_data",
          "data": {
            "text/plain": [
              "<Figure size 432x288 with 1 Axes>"
            ],
            "image/png": "[encoded data removed]"
          },
          "metadata": {}
        }
      ]
    },
    {
      "cell_type": "code",
      "source": [
        "close = nx.closeness_centrality(c)\n",
        "close\n",
        "#노드의 근접 중심도"
      ],
      "metadata": {
        "colab": {
          "base_uri": "https://localhost:8080/"
        },
        "id": "4BdIk00HvyZ0",
        "outputId": "3dfab31a-dede-4416-a4d9-49ef4854502e"
      },
      "execution_count": 10,
      "outputs": [
        {
          "output_type": "execute_result",
          "data": {
            "text/plain": [
              "{1: 0.5,\n",
              " 2: 0.6666666666666666,\n",
              " 3: 0.5454545454545454,\n",
              " 5: 0.6,\n",
              " 4: 0.375,\n",
              " 7: 0.4,\n",
              " 6: 0.4}"
            ]
          },
          "metadata": {},
          "execution_count": 10
        }
      ]
    },
    {
      "cell_type": "code",
      "source": [
        "nd = nx.betweenness_centrality(c)\n",
        "nd\n",
        "#노드의 사이중심점"
      ],
      "metadata": {
        "colab": {
          "base_uri": "https://localhost:8080/"
        },
        "id": "TNM1QhvFxH5W",
        "outputId": "6a44201b-71ec-4afb-ff78-6436cda4e0c8"
      },
      "execution_count": 11,
      "outputs": [
        {
          "output_type": "execute_result",
          "data": {
            "text/plain": [
              "{1: 0.0, 2: 0.6, 3: 0.3333333333333333, 5: 0.6, 4: 0.0, 7: 0.0, 6: 0.0}"
            ]
          },
          "metadata": {},
          "execution_count": 11
        }
      ]
    },
    {
      "cell_type": "code",
      "source": [
        "c_degree_max = np.max([c.degree(n) for n in c.nodes])\n",
        "\n",
        "sample = dict(nx.degree(c))\n",
        "ans = []\n",
        "\n",
        "for key, value in sample.items():\n",
        "    if value == c_degree_max :\n",
        "         ans.append(key)\n",
        "         \n",
        "print(ans, c_degree_max)"
      ],
      "metadata": {
        "colab": {
          "base_uri": "https://localhost:8080/"
        },
        "id": "1BzbLEFOwkvG",
        "outputId": "8149b125-5bb9-4e8d-a21e-30a3980f4b86"
      },
      "execution_count": 12,
      "outputs": [
        {
          "output_type": "stream",
          "name": "stdout",
          "text": [
            "[2, 3, 5] 3\n"
          ]
        }
      ]
    },
    {
      "cell_type": "markdown",
      "source": [
        "- 노드 2 가 근접 중심점이 가장 높고, 노드 2, 3, 5가 연결선 수가 높고, 사이 중심점은 노드 2, 5가 가장 높다"
      ],
      "metadata": {
        "id": "thp551WDw596"
      }
    },
    {
      "cell_type": "markdown",
      "source": [
        "#### 문제 3.17"
      ],
      "metadata": {
        "id": "B8sDvcqWLYFn"
      }
    },
    {
      "cell_type": "code",
      "source": [
        "air = nx.read_graphml('/content/openflights_usa.graphml.gz')\n",
        "nx.draw(air)"
      ],
      "metadata": {
        "colab": {
          "base_uri": "https://localhost:8080/",
          "height": 319
        },
        "id": "UC9llo1KwsBg",
        "outputId": "979cbb97-9a26-4fb2-c726-c247f626f4d6"
      },
      "execution_count": 14,
      "outputs": [
        {
          "output_type": "display_data",
          "data": {
            "text/plain": [
              "<Figure size 432x288 with 1 Axes>"
            ],
            "image/png": "[encoded data removed]"
          },
          "metadata": {}
        }
      ]
    },
    {
      "cell_type": "code",
      "source": [
        "air_degree_mean = np.mean([air.degree(n) for n in air.nodes])\n",
        "round(air_degree_mean,2)\n",
        "# 평균 연결선 수"
      ],
      "metadata": {
        "colab": {
          "base_uri": "https://localhost:8080/"
        },
        "id": "K92ZcO7ZLfaY",
        "outputId": "732ab524-d64d-4da2-b91c-b8431ed27dcd"
      },
      "execution_count": 15,
      "outputs": [
        {
          "output_type": "execute_result",
          "data": {
            "text/plain": [
              "10.19"
            ]
          },
          "metadata": {},
          "execution_count": 15
        }
      ]
    },
    {
      "cell_type": "code",
      "source": [
        "air_rank = dict(air.degree())\n",
        "result = sorted(air_rank.items(), key=lambda x: x[1], reverse=True)[:5]\n",
        "result\n",
        "#연결선수 상위 5개 "
      ],
      "metadata": {
        "colab": {
          "base_uri": "https://localhost:8080/"
        },
        "id": "6kAGl50HMVee",
        "outputId": "9b064f45-41fb-4097-a564-4f4525a024ed"
      },
      "execution_count": 16,
      "outputs": [
        {
          "output_type": "execute_result",
          "data": {
            "text/plain": [
              "[('ATL', 153), ('ORD', 149), ('DEN', 148), ('DFW', 138), ('MSP', 117)]"
            ]
          },
          "metadata": {},
          "execution_count": 16
        }
      ]
    },
    {
      "cell_type": "code",
      "source": [
        " sum = 0\n",
        " for key, value in air_rank.items():\n",
        "   if value == 1:\n",
        "     sum += 1\n",
        "print(sum)\n"
      ],
      "metadata": {
        "colab": {
          "base_uri": "https://localhost:8080/"
        },
        "id": "wgpNFfedNXjP",
        "outputId": "2cb47481-8332-4fe2-eb78-e52ac094b747"
      },
      "execution_count": 17,
      "outputs": [
        {
          "output_type": "stream",
          "name": "stdout",
          "text": [
            "156\n"
          ]
        }
      ]
    },
    {
      "cell_type": "code",
      "source": [
        "close = nx.closeness_centrality(air)\n",
        "result = sorted(close.items(), key=lambda x: x[1], reverse=True)[:5]\n",
        "result"
      ],
      "metadata": {
        "colab": {
          "base_uri": "https://localhost:8080/"
        },
        "id": "qv8FnmGhPDEu",
        "outputId": "d1f9cb45-8e11-40f6-a14c-7a26863e30ed"
      },
      "execution_count": 18,
      "outputs": [
        {
          "output_type": "execute_result",
          "data": {
            "text/plain": [
              "[('DEN', 0.5038803683651619),\n",
              " ('ORD', 0.5019753386170895),\n",
              " ('LAS', 0.4872384479420925),\n",
              " ('MSP', 0.4872384479420925),\n",
              " ('SEA', 0.47889080997013594)]"
            ]
          },
          "metadata": {},
          "execution_count": 18
        }
      ]
    },
    {
      "cell_type": "code",
      "source": [
        "nd = nx.betweenness_centrality(air)\n",
        "result = sorted(nd.items(), key=lambda x: x[1], reverse=True)[:5]\n",
        "result"
      ],
      "metadata": {
        "colab": {
          "base_uri": "https://localhost:8080/"
        },
        "id": "3xFviPTGSZae",
        "outputId": "ea10488c-a69b-4786-a030-258b02390aca"
      },
      "execution_count": 19,
      "outputs": [
        {
          "output_type": "execute_result",
          "data": {
            "text/plain": [
              "[('ANC', 0.3189906081983976),\n",
              " ('DEN', 0.15085303312493564),\n",
              " ('ORD', 0.12609401269592674),\n",
              " ('SEA', 0.12208809426888925),\n",
              " ('ATL', 0.08889776963308971)]"
            ]
          },
          "metadata": {},
          "execution_count": 19
        }
      ]
    },
    {
      "cell_type": "markdown",
      "source": [
        "#### 불균일도"
      ],
      "metadata": {
        "id": "OWUuj36EZkQS"
      }
    },
    {
      "cell_type": "code",
      "source": [
        "air_node = air.number_of_nodes()\n",
        "air_edge = air.number_of_edges()"
      ],
      "metadata": {
        "id": "hAi8wjWL3bzR"
      },
      "execution_count": 29,
      "outputs": []
    },
    {
      "cell_type": "code",
      "source": [
        "k1 = nx.density(air)*(air_node-1) # 평균 연결선 수 = 조밀도 * (노드의 개수 - 1)\n",
        "k1"
      ],
      "metadata": {
        "colab": {
          "base_uri": "https://localhost:8080/"
        },
        "id": "fPkx2O0-TNy0",
        "outputId": "e02fcbbd-f127-496c-a783-205588b417fa"
      },
      "execution_count": 30,
      "outputs": [
        {
          "output_type": "execute_result",
          "data": {
            "text/plain": [
              "10.186813186813186"
            ]
          },
          "metadata": {},
          "execution_count": 30
        }
      ]
    },
    {
      "cell_type": "code",
      "source": [
        " ad = dict(air.degree)"
      ],
      "metadata": {
        "id": "TL45u0EyVJvf"
      },
      "execution_count": 31,
      "outputs": []
    },
    {
      "cell_type": "code",
      "source": [
        "sum = 0\n",
        "for value in ad.values() :\n",
        "  sum += value**2\n",
        "\n",
        "print(sum)"
      ],
      "metadata": {
        "colab": {
          "base_uri": "https://localhost:8080/"
        },
        "id": "cSKuAek3WiFn",
        "outputId": "c4a0c0aa-7afa-42e4-ea93-6325818870d1"
      },
      "execution_count": 32,
      "outputs": [
        {
          "output_type": "stream",
          "name": "stdout",
          "text": [
            "302984\n"
          ]
        }
      ]
    },
    {
      "cell_type": "code",
      "source": [
        "type(ad)"
      ],
      "metadata": {
        "colab": {
          "base_uri": "https://localhost:8080/"
        },
        "id": "OX_BLqnbXqTE",
        "outputId": "3c3a971b-4217-4cd1-a00d-6dc7677fd1cf"
      },
      "execution_count": 33,
      "outputs": [
        {
          "output_type": "execute_result",
          "data": {
            "text/plain": [
              "dict"
            ]
          },
          "metadata": {},
          "execution_count": 33
        }
      ]
    },
    {
      "cell_type": "code",
      "source": [
        "k2 = sum/len(ad)\n",
        "k2"
      ],
      "metadata": {
        "colab": {
          "base_uri": "https://localhost:8080/"
        },
        "id": "N7LgMMf-X4i3",
        "outputId": "518f6964-9bb4-47b1-dfb4-45796dbee554"
      },
      "execution_count": 34,
      "outputs": [
        {
          "output_type": "execute_result",
          "data": {
            "text/plain": [
              "554.9157509157509"
            ]
          },
          "metadata": {},
          "execution_count": 34
        }
      ]
    },
    {
      "cell_type": "code",
      "source": [
        "result = k2/k1**2\n",
        "round(result,2)"
      ],
      "metadata": {
        "colab": {
          "base_uri": "https://localhost:8080/"
        },
        "id": "bpcfhlYqZB_X",
        "outputId": "d8e6c22f-b3ce-40c0-e06b-e1a5d14d50f4"
      },
      "execution_count": 35,
      "outputs": [
        {
          "output_type": "execute_result",
          "data": {
            "text/plain": [
              "5.35"
            ]
          },
          "metadata": {},
          "execution_count": 35
        }
      ]
    },
    {
      "cell_type": "markdown",
      "source": [
        "####문제 3.18"
      ],
      "metadata": {
        "id": "AGFxKXwDZ172"
      }
    },
    {
      "cell_type": "code",
      "source": [
        "math = nx.read_graphml('/content/enwiki_math.graphml.gz')"
      ],
      "metadata": {
        "id": "qKNrqYZJZKqK"
      },
      "execution_count": 36,
      "outputs": []
    },
    {
      "cell_type": "code",
      "source": [
        "nd_in = [math.in_degree(n) for n in math.nodes()]\n",
        "nd_out = [math.out_degree(n) for n in math.nodes()]\n",
        "print(round(np.mean(nd_in),2), round(np.mean(nd_out),2))"
      ],
      "metadata": {
        "colab": {
          "base_uri": "https://localhost:8080/"
        },
        "id": "HkUB8MutdK8b",
        "outputId": "669583ef-047c-47e6-a373-abdf4deb0d57"
      },
      "execution_count": 37,
      "outputs": [
        {
          "output_type": "stream",
          "name": "stdout",
          "text": [
            "12.75 12.75\n"
          ]
        }
      ]
    },
    {
      "cell_type": "code",
      "source": [
        "nd_rank = dict(math.in_degree())\n",
        "result1 = sorted(nd_rank.items(), key=lambda x: x[1], reverse=True)[:5]\n",
        "result1"
      ],
      "metadata": {
        "colab": {
          "base_uri": "https://localhost:8080/"
        },
        "id": "Gz-kCzGqd3I_",
        "outputId": "3cf9cead-939e-4a89-b92e-9c777ff795e8"
      },
      "execution_count": 38,
      "outputs": [
        {
          "output_type": "execute_result",
          "data": {
            "text/plain": [
              "[('1152126', 5171),\n",
              " ('18831', 4853),\n",
              " ('18902', 4148),\n",
              " ('1485646', 2072),\n",
              " ('198822', 1581)]"
            ]
          },
          "metadata": {},
          "execution_count": 38
        }
      ]
    },
    {
      "cell_type": "code",
      "source": [
        "nd_rank = dict(math.out_degree())\n",
        "result2 = sorted(nd_rank.items(), key=lambda x: x[1], reverse=True)[:5]\n",
        "result2"
      ],
      "metadata": {
        "colab": {
          "base_uri": "https://localhost:8080/"
        },
        "id": "0a4O-3Ybd79s",
        "outputId": "8c3d8cbe-00f9-4211-83da-e5dd54bc409f"
      },
      "execution_count": 39,
      "outputs": [
        {
          "output_type": "execute_result",
          "data": {
            "text/plain": [
              "[('47738065', 1356),\n",
              " ('14403539', 1312),\n",
              " ('5971830', 841),\n",
              " ('5971797', 777),\n",
              " ('11254442', 718)]"
            ]
          },
          "metadata": {},
          "execution_count": 39
        }
      ]
    },
    {
      "cell_type": "code",
      "source": [
        "in_avg = np.mean(nd_in)\n",
        "# 2. 들어오는 평균 제곱 연결선 수\n",
        "\n",
        "def sqr(list):\n",
        "    return [i * i for i in list]\n",
        "\n",
        "hap = sqr(nd_in)\n",
        "\n",
        "sum = 0\n",
        "for i in range(len(hap)) :\n",
        "  a = hap[i]\n",
        "  sum+=a"
      ],
      "metadata": {
        "id": "8b9qlS2OevDB"
      },
      "execution_count": 40,
      "outputs": []
    },
    {
      "cell_type": "code",
      "source": [
        "rt = sum/len(nd_in)\n",
        "print(round(rt/(in_avg)**2,2))"
      ],
      "metadata": {
        "colab": {
          "base_uri": "https://localhost:8080/"
        },
        "id": "ij-5PImziWlZ",
        "outputId": "e42b39bb-2e94-4357-ba55-502a04c9edba"
      },
      "execution_count": 41,
      "outputs": [
        {
          "output_type": "stream",
          "name": "stdout",
          "text": [
            "38.21\n"
          ]
        }
      ]
    },
    {
      "cell_type": "code",
      "source": [
        "out_avg = np.mean(nd_out)\n",
        "# 2. 나가는 평균 제곱 연결선 수\n",
        "\n",
        "def sqr(list):\n",
        "    return [i * i for i in list]\n",
        "\n",
        "hap = sqr(nd_out)\n",
        "\n",
        "sum = 0\n",
        "for i in range(len(hap)) :\n",
        "  a = hap[i]\n",
        "  sum+=a\n",
        "\n",
        "rt = sum/len(nd_out)\n",
        "print(round(rt/(out_avg)**2,2))"
      ],
      "metadata": {
        "colab": {
          "base_uri": "https://localhost:8080/"
        },
        "id": "tKVhJhgNi37R",
        "outputId": "e1593d7b-1f78-4141-e58e-a81e4032b6f0"
      },
      "execution_count": 42,
      "outputs": [
        {
          "output_type": "stream",
          "name": "stdout",
          "text": [
            "6.62\n"
          ]
        }
      ]
    },
    {
      "cell_type": "code",
      "source": [
        "face = nx.read_edgelist('/content/socfb-Northwestern25.edges.gz')"
      ],
      "metadata": {
        "id": "O9McdNlSjN_U"
      },
      "execution_count": 43,
      "outputs": []
    },
    {
      "cell_type": "code",
      "source": [
        "count = dict(face.degree)"
      ],
      "metadata": {
        "id": "sQ9skzC138sw"
      },
      "execution_count": 48,
      "outputs": []
    },
    {
      "cell_type": "code",
      "source": [
        "sum=0\n",
        "for key, value in count.items():\n",
        "  if value >= 100 :\n",
        "    sum+=1\n",
        "\n",
        "print(sum)"
      ],
      "metadata": {
        "colab": {
          "base_uri": "https://localhost:8080/"
        },
        "id": "fiIdszmv4OCL",
        "outputId": "ce1f26b5-fab7-4eb3-d878-99094ac8809b"
      },
      "execution_count": 55,
      "outputs": [
        {
          "output_type": "stream",
          "name": "stdout",
          "text": [
            "4038\n"
          ]
        }
      ]
    },
    {
      "cell_type": "code",
      "source": [
        "round(sum/len(count),2)"
      ],
      "metadata": {
        "colab": {
          "base_uri": "https://localhost:8080/"
        },
        "id": "JhEb2lt44PWo",
        "outputId": "d132c1e7-11cc-4ad1-936a-c22c9f537ece"
      },
      "execution_count": 57,
      "outputs": [
        {
          "output_type": "execute_result",
          "data": {
            "text/plain": [
              "0.38"
            ]
          },
          "metadata": {},
          "execution_count": 57
        }
      ]
    },
    {
      "cell_type": "code",
      "source": [
        "result = sorted(count.items(), key=lambda x: x[1], reverse=True)[:1]\n",
        "result\n",
        "#연결선수 상위 5개 "
      ],
      "metadata": {
        "colab": {
          "base_uri": "https://localhost:8080/"
        },
        "id": "GVpBhv0l5xVM",
        "outputId": "4bae22ec-b24c-4a35-ee70-7abcd0e01d44"
      },
      "execution_count": 59,
      "outputs": [
        {
          "output_type": "execute_result",
          "data": {
            "text/plain": [
              "[('8262', 2105)]"
            ]
          },
          "metadata": {},
          "execution_count": 59
        }
      ]
    },
    {
      "cell_type": "code",
      "source": [
        "node_count = [face.degree(n) for n in face.nodes()] # 각 노드의 연결선 수\n",
        "np.percentile(node_count,95) # 95% 추출"
      ],
      "metadata": {
        "colab": {
          "base_uri": "https://localhost:8080/"
        },
        "id": "WdwsFW096XNu",
        "outputId": "ca3eabc4-7ee1-408a-d927-8064177874de"
      },
      "execution_count": 61,
      "outputs": [
        {
          "output_type": "execute_result",
          "data": {
            "text/plain": [
              "244.0"
            ]
          },
          "metadata": {},
          "execution_count": 61
        }
      ]
    },
    {
      "cell_type": "code",
      "source": [
        "round(np.mean(node_count),2)"
      ],
      "metadata": {
        "colab": {
          "base_uri": "https://localhost:8080/"
        },
        "id": "hP3PEsvL6rEj",
        "outputId": "7e38cf2b-0f70-4dcf-d303-633d9c7e45b6"
      },
      "execution_count": 62,
      "outputs": [
        {
          "output_type": "execute_result",
          "data": {
            "text/plain": [
              "92.43"
            ]
          },
          "metadata": {},
          "execution_count": 62
        }
      ]
    },
    {
      "cell_type": "code",
      "source": [
        "avg = np.mean(node_count)\n",
        "tan = np.std(node_count)\n",
        "\n",
        "nbins = 100\n",
        "n, bins, patches = plt.hist(node_count, bins = nbins, density=1)\n",
        "plt.xlim(0,500)\n",
        "plt.xlabel('Count')\n",
        "plt.ylabel('Frequency')\n",
        "plt.title('network degree')\n",
        "plt.axvline(x = np.mean(node_count), linewidth =2, color = 'r')\n",
        "y = ((1 / (np.sqrt(2 * np.pi) * tan)) * np.exp(-0.5 * (1/tan * (bins - avg))**2))\n",
        "plt.plot(bins,y,'--')\n",
        "plt.show()"
      ],
      "metadata": {
        "colab": {
          "base_uri": "https://localhost:8080/",
          "height": 295
        },
        "id": "ZfPBra3J6vfX",
        "outputId": "75ca9410-5597-4399-c9fe-6900b830aaf3"
      },
      "execution_count": 63,
      "outputs": [
        {
          "output_type": "display_data",
          "data": {
            "text/plain": [
              "<Figure size 432x288 with 1 Axes>"
            ],
            "image/png": "[encoded data removed]"
          },
          "metadata": {
            "needs_background": "light"
          }
        }
      ]
    },
    {
      "cell_type": "code",
      "source": [],
      "metadata": {
        "id": "Rj1h7ZCO7Ov3"
      },
      "execution_count": null,
      "outputs": []
    }
  ]
}